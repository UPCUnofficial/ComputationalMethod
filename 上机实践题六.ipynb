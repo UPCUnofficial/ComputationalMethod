{
 "cells": [
  {
   "cell_type": "markdown",
   "id": "2997f645",
   "metadata": {},
   "source": [
    "# 改进的欧拉法"
   ]
  },
  {
   "cell_type": "code",
   "execution_count": 26,
   "id": "e7595d61",
   "metadata": {},
   "outputs": [],
   "source": [
    "def GJOLF(a, b, y0, f, h):\n",
    "    n = int((b-a)//h)\n",
    "    first = 1\n",
    "    for i in range(0,n+1):\n",
    "        if first:\n",
    "            x = a\n",
    "            y = y0\n",
    "            first = 0\n",
    "        k1 = h*f(x, y)\n",
    "        k2 = h*f(x+h, y+k1)\n",
    "        y = y + k1/2 + k2/2\n",
    "        x = x + h\n",
    "        print(x,y)"
   ]
  },
  {
   "cell_type": "code",
   "execution_count": 27,
   "id": "649eb537",
   "metadata": {},
   "outputs": [],
   "source": [
    "def f1(x, y):\n",
    "    return x**2 + (x**3)*y"
   ]
  },
  {
   "cell_type": "code",
   "execution_count": 28,
   "id": "f815b986",
   "metadata": {},
   "outputs": [
    {
     "name": "stdout",
     "output_type": "stream",
     "text": [
      "1.1 1.2403600000000001\n",
      "1.2000000000000002 1.5872914035424004\n",
      "1.3000000000000003 2.1012458338929507\n",
      "1.4000000000000004 2.8893829341279065\n",
      "1.5000000000000004 4.150757519589133\n"
     ]
    }
   ],
   "source": [
    "GJOLF(1, 1.5, 1, f1, 0.1)"
   ]
  },
  {
   "cell_type": "code",
   "execution_count": 22,
   "id": "232a0c33",
   "metadata": {},
   "outputs": [
    {
     "data": {
      "text/plain": [
       "4.0"
      ]
     },
     "execution_count": 22,
     "metadata": {},
     "output_type": "execute_result"
    }
   ],
   "source": [
    "(1.5-1)//0.1"
   ]
  },
  {
   "cell_type": "code",
   "execution_count": null,
   "id": "2a3ad021",
   "metadata": {},
   "outputs": [],
   "source": [
    "def GJOLF(a, b, y0, f, h):\n",
    "    n = int((b-a)//h)\n",
    "    x = np."
   ]
  },
  {
   "cell_type": "code",
   "execution_count": 30,
   "id": "7d077f72",
   "metadata": {},
   "outputs": [],
   "source": [
    "import numpy as np"
   ]
  },
  {
   "cell_type": "code",
   "execution_count": 32,
   "id": "67d5dfbc",
   "metadata": {},
   "outputs": [
    {
     "ename": "AttributeError",
     "evalue": "module 'numpy' has no attribute 'arrange'",
     "output_type": "error",
     "traceback": [
      "\u001b[0;31m---------------------------------------------------------------------------\u001b[0m",
      "\u001b[0;31mAttributeError\u001b[0m                            Traceback (most recent call last)",
      "\u001b[0;32m<ipython-input-32-84db2fb8d4cb>\u001b[0m in \u001b[0;36m<module>\u001b[0;34m\u001b[0m\n\u001b[0;32m----> 1\u001b[0;31m \u001b[0mnp\u001b[0m\u001b[0;34m.\u001b[0m\u001b[0marrange\u001b[0m\u001b[0;34m(\u001b[0m\u001b[0ma\u001b[0m\u001b[0;34m,\u001b[0m\u001b[0mb\u001b[0m\u001b[0;34m,\u001b[0m\u001b[0;36m0.1\u001b[0m\u001b[0;34m)\u001b[0m\u001b[0;34m\u001b[0m\u001b[0;34m\u001b[0m\u001b[0m\n\u001b[0m",
      "\u001b[0;32m~/opt/anaconda3/lib/python3.8/site-packages/numpy/__init__.py\u001b[0m in \u001b[0;36m__getattr__\u001b[0;34m(attr)\u001b[0m\n\u001b[1;32m    301\u001b[0m                 \u001b[0;32mreturn\u001b[0m \u001b[0mTester\u001b[0m\u001b[0;34m\u001b[0m\u001b[0;34m\u001b[0m\u001b[0m\n\u001b[1;32m    302\u001b[0m \u001b[0;34m\u001b[0m\u001b[0m\n\u001b[0;32m--> 303\u001b[0;31m             raise AttributeError(\"module {!r} has no attribute \"\n\u001b[0m\u001b[1;32m    304\u001b[0m                                  \"{!r}\".format(__name__, attr))\n\u001b[1;32m    305\u001b[0m \u001b[0;34m\u001b[0m\u001b[0m\n",
      "\u001b[0;31mAttributeError\u001b[0m: module 'numpy' has no attribute 'arrange'"
     ]
    }
   ],
   "source": [
    "np.arrange(a,b,0.1)"
   ]
  },
  {
   "cell_type": "markdown",
   "id": "c8c361b1",
   "metadata": {},
   "source": [
    "徐杰，Matlab\n",
    "function [x,y]=MEuler(a,b,y0,f)\n",
    "    h=0.1;\n",
    "    n=(b-a)/0.1;\n",
    "    x=zeros(n+1,1);\n",
    "    y=zeros(n+1,1);\n",
    "    x(:,1)=a:0.1:b;\n",
    "    y(1)=y0;\n",
    "    for i=1:n\n",
    "        k1=h*f(x(i),y(i));\n",
    "        k2=h*f(x(i),y(i)+k1);\n",
    "        y(i+1)=y(i)+1/2*k1+1/2*k2;\n",
    "    end\n",
    "end"
   ]
  },
  {
   "cell_type": "code",
   "execution_count": null,
   "id": "5bd864bc",
   "metadata": {},
   "outputs": [],
   "source": []
  }
 ],
 "metadata": {
  "kernelspec": {
   "display_name": "Python 3",
   "language": "python",
   "name": "python3"
  },
  "language_info": {
   "codemirror_mode": {
    "name": "ipython",
    "version": 3
   },
   "file_extension": ".py",
   "mimetype": "text/x-python",
   "name": "python",
   "nbconvert_exporter": "python",
   "pygments_lexer": "ipython3",
   "version": "3.8.8"
  }
 },
 "nbformat": 4,
 "nbformat_minor": 5
}
